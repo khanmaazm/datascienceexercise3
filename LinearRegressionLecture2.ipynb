{
 "cells": [
  {
   "cell_type": "markdown",
   "metadata": {},
   "source": [
    "# Polynomial Regression/Multinomial Regression"
   ]
  },
  {
   "cell_type": "code",
   "execution_count": 95,
   "metadata": {},
   "outputs": [],
   "source": [
    "import numpy as np\n",
    "import pandas as pd\n",
    "import matplotlib.pyplot as plt"
   ]
  },
  {
   "cell_type": "code",
   "execution_count": 96,
   "metadata": {},
   "outputs": [
    {
     "data": {
      "text/html": [
       "<div>\n",
       "<style scoped>\n",
       "    .dataframe tbody tr th:only-of-type {\n",
       "        vertical-align: middle;\n",
       "    }\n",
       "\n",
       "    .dataframe tbody tr th {\n",
       "        vertical-align: top;\n",
       "    }\n",
       "\n",
       "    .dataframe thead th {\n",
       "        text-align: right;\n",
       "    }\n",
       "</style>\n",
       "<table border=\"1\" class=\"dataframe\">\n",
       "  <thead>\n",
       "    <tr style=\"text-align: right;\">\n",
       "      <th></th>\n",
       "      <th>X</th>\n",
       "      <th>Y</th>\n",
       "      <th>Z</th>\n",
       "    </tr>\n",
       "  </thead>\n",
       "  <tbody>\n",
       "    <tr>\n",
       "      <th>0</th>\n",
       "      <td>20.870828</td>\n",
       "      <td>613623.2666</td>\n",
       "      <td>674977.9583</td>\n",
       "    </tr>\n",
       "    <tr>\n",
       "      <th>1</th>\n",
       "      <td>16.861577</td>\n",
       "      <td>325588.8133</td>\n",
       "      <td>334708.9302</td>\n",
       "    </tr>\n",
       "    <tr>\n",
       "      <th>2</th>\n",
       "      <td>19.894293</td>\n",
       "      <td>532032.8359</td>\n",
       "      <td>498703.0983</td>\n",
       "    </tr>\n",
       "    <tr>\n",
       "      <th>3</th>\n",
       "      <td>22.517278</td>\n",
       "      <td>769495.2542</td>\n",
       "      <td>757698.1964</td>\n",
       "    </tr>\n",
       "    <tr>\n",
       "      <th>4</th>\n",
       "      <td>16.855310</td>\n",
       "      <td>325230.6083</td>\n",
       "      <td>179043.4755</td>\n",
       "    </tr>\n",
       "  </tbody>\n",
       "</table>\n",
       "</div>"
      ],
      "text/plain": [
       "           X            Y            Z\n",
       "0  20.870828  613623.2666  674977.9583\n",
       "1  16.861577  325588.8133  334708.9302\n",
       "2  19.894293  532032.8359  498703.0983\n",
       "3  22.517278  769495.2542  757698.1964\n",
       "4  16.855310  325230.6083  179043.4755"
      ]
     },
     "execution_count": 96,
     "metadata": {},
     "output_type": "execute_result"
    }
   ],
   "source": [
    "maindf3poly = pd.read_csv('LinearRegressionPoly.csv')\n",
    "maindf3poly.head()"
   ]
  },
  {
   "cell_type": "code",
   "execution_count": 97,
   "metadata": {},
   "outputs": [
    {
     "data": {
      "image/png": "[encoded data removed]",
      "text/plain": [
       "<Figure size 432x432 with 1 Axes>"
      ]
     },
     "metadata": {
      "needs_background": "light"
     },
     "output_type": "display_data"
    }
   ],
   "source": [
    "plt.figure(figsize=(6,6))\n",
    "plt.scatter(x='X',y='Z',data=maindf3poly.head(1000))\n",
    "plt.scatter(x='X',y='Y',data=maindf3poly.head(1000))\n",
    "plt.legend(['Withoutnoise=Y','Withnoise=Z'])\n",
    "plt.show()"
   ]
  },
  {
   "cell_type": "markdown",
   "metadata": {},
   "source": [
    "# Linear Regression on above data"
   ]
  },
  {
   "cell_type": "code",
   "execution_count": 98,
   "metadata": {},
   "outputs": [],
   "source": [
    "from sklearn.model_selection import train_test_split\n",
    "from sklearn import linear_model\n",
    "X_trainpoly, X_testpoly, y_trainpoly, y_testpoly = train_test_split(pd.DataFrame(maindf3poly['X']), maindf3poly['Z'], test_size=0.25)"
   ]
  },
  {
   "cell_type": "code",
   "execution_count": 99,
   "metadata": {},
   "outputs": [
    {
     "name": "stdout",
     "output_type": "stream",
     "text": [
      "[84060.88977718]\n",
      "-1075885.157742526\n"
     ]
    },
    {
     "data": {
      "text/html": [
       "<div>\n",
       "<style scoped>\n",
       "    .dataframe tbody tr th:only-of-type {\n",
       "        vertical-align: middle;\n",
       "    }\n",
       "\n",
       "    .dataframe tbody tr th {\n",
       "        vertical-align: top;\n",
       "    }\n",
       "\n",
       "    .dataframe thead th {\n",
       "        text-align: right;\n",
       "    }\n",
       "</style>\n",
       "<table border=\"1\" class=\"dataframe\">\n",
       "  <thead>\n",
       "    <tr style=\"text-align: right;\">\n",
       "      <th></th>\n",
       "      <th>X</th>\n",
       "      <th>Pred</th>\n",
       "      <th>Actual</th>\n",
       "    </tr>\n",
       "  </thead>\n",
       "  <tbody>\n",
       "    <tr>\n",
       "      <th>0</th>\n",
       "      <td>17.720118</td>\n",
       "      <td>413683.717366</td>\n",
       "      <td>339902.4562</td>\n",
       "    </tr>\n",
       "    <tr>\n",
       "      <th>1</th>\n",
       "      <td>17.454599</td>\n",
       "      <td>391363.974989</td>\n",
       "      <td>432414.8993</td>\n",
       "    </tr>\n",
       "    <tr>\n",
       "      <th>2</th>\n",
       "      <td>17.402443</td>\n",
       "      <td>386979.725483</td>\n",
       "      <td>314497.8283</td>\n",
       "    </tr>\n",
       "  </tbody>\n",
       "</table>\n",
       "</div>"
      ],
      "text/plain": [
       "           X           Pred       Actual\n",
       "0  17.720118  413683.717366  339902.4562\n",
       "1  17.454599  391363.974989  432414.8993\n",
       "2  17.402443  386979.725483  314497.8283"
      ]
     },
     "execution_count": 99,
     "metadata": {},
     "output_type": "execute_result"
    }
   ],
   "source": [
    "lmodelfirst = linear_model.LinearRegression()\n",
    "lmodelfirst\n",
    "lmodelfirst.fit(X_trainpoly, y_trainpoly)\n",
    "ypredictedpoly = lmodelfirst.predict(X_testpoly)\n",
    "compareoutputpoly = pd.DataFrame([X_testpoly['X'].values, ypredictedpoly, y_testpoly]).T\n",
    "compareoutputpoly.columns = ['X', 'Pred','Actual']\n",
    "print(lmodelfirst.coef_)\n",
    "print(lmodelfirst.intercept_)\n",
    "compareoutputpoly.head(3)"
   ]
  },
  {
   "cell_type": "code",
   "execution_count": 100,
   "metadata": {},
   "outputs": [
    {
     "data": {
      "image/png": "[encoded data removed]",
      "text/plain": [
       "<Figure size 432x432 with 1 Axes>"
      ]
     },
     "metadata": {
      "needs_background": "light"
     },
     "output_type": "display_data"
    }
   ],
   "source": [
    "plt.figure(figsize=(6,6))\n",
    "plt.scatter(x='X',y='Actual', data = compareoutputpoly)\n",
    "plt.scatter(x='X',y='Pred', data = compareoutputpoly)\n",
    "#plt.legend(['Withoutnoise','Withnoise'])\n",
    "plt.show()"
   ]
  },
  {
   "cell_type": "code",
   "execution_count": 101,
   "metadata": {},
   "outputs": [
    {
     "name": "stdout",
     "output_type": "stream",
     "text": [
      "Mean Absolute Error :  85786.65461161721\n",
      "Mean Square Error :  13618605256.710306\n",
      "Root Mean Square Error :  116698.78001380437\n",
      "Median Absolute Error :  67494.66348124016\n"
     ]
    }
   ],
   "source": [
    "from sklearn import metrics as mt\n",
    "import math\n",
    "print('Mean Absolute Error : ', mt.mean_absolute_error(y_testpoly, ypredictedpoly))\n",
    "print('Mean Square Error : ', mt.mean_squared_error(y_testpoly, ypredictedpoly))\n",
    "print('Root Mean Square Error : ', math.sqrt(mt.mean_squared_error(y_testpoly, ypredictedpoly)))\n",
    "print('Median Absolute Error : ', mt.median_absolute_error(y_testpoly, ypredictedpoly))"
   ]
  },
  {
   "cell_type": "markdown",
   "metadata": {},
   "source": [
    "# 2 Degree Polynomial Regression on above data"
   ]
  },
  {
   "cell_type": "code",
   "execution_count": 102,
   "metadata": {},
   "outputs": [
    {
     "name": "stdout",
     "output_type": "stream",
     "text": [
      "LinearRegression(copy_X=True, fit_intercept=True, n_jobs=None, normalize=False)\n",
      "[     0.         -80967.68525638   4117.49986172]\n",
      "510276.99940151477\n",
      "Mean Absolute Error :  59912.04333156185\n",
      "Mean Square Error :  5592043141.103881\n",
      "Root Mean Square Error :  74779.96483754109\n",
      "Median Absolute Error :  50973.69060122612\n"
     ]
    },
    {
     "data": {
      "text/html": [
       "<div>\n",
       "<style scoped>\n",
       "    .dataframe tbody tr th:only-of-type {\n",
       "        vertical-align: middle;\n",
       "    }\n",
       "\n",
       "    .dataframe tbody tr th {\n",
       "        vertical-align: top;\n",
       "    }\n",
       "\n",
       "    .dataframe thead th {\n",
       "        text-align: right;\n",
       "    }\n",
       "</style>\n",
       "<table border=\"1\" class=\"dataframe\">\n",
       "  <thead>\n",
       "    <tr style=\"text-align: right;\">\n",
       "      <th></th>\n",
       "      <th>Pred</th>\n",
       "      <th>Actual</th>\n",
       "    </tr>\n",
       "  </thead>\n",
       "  <tbody>\n",
       "    <tr>\n",
       "      <th>0</th>\n",
       "      <td>2.660486e+05</td>\n",
       "      <td>1.983440e+05</td>\n",
       "    </tr>\n",
       "    <tr>\n",
       "      <th>1</th>\n",
       "      <td>6.965504e+05</td>\n",
       "      <td>7.786689e+05</td>\n",
       "    </tr>\n",
       "    <tr>\n",
       "      <th>2</th>\n",
       "      <td>7.273123e+05</td>\n",
       "      <td>7.348099e+05</td>\n",
       "    </tr>\n",
       "    <tr>\n",
       "      <th>3</th>\n",
       "      <td>3.864201e+05</td>\n",
       "      <td>3.713742e+05</td>\n",
       "    </tr>\n",
       "    <tr>\n",
       "      <th>4</th>\n",
       "      <td>1.520561e+06</td>\n",
       "      <td>1.360978e+06</td>\n",
       "    </tr>\n",
       "  </tbody>\n",
       "</table>\n",
       "</div>"
      ],
      "text/plain": [
       "           Pred        Actual\n",
       "0  2.660486e+05  1.983440e+05\n",
       "1  6.965504e+05  7.786689e+05\n",
       "2  7.273123e+05  7.348099e+05\n",
       "3  3.864201e+05  3.713742e+05\n",
       "4  1.520561e+06  1.360978e+06"
      ]
     },
     "execution_count": 102,
     "metadata": {},
     "output_type": "execute_result"
    }
   ],
   "source": [
    "#### SKLEARN POYNOMIAL\n",
    "#### SKLEARN POYNOMIAL\n",
    "#### SKLEARN POYNOMIAL\n",
    "#### SKLEARN POYNOMIAL\n",
    "#### SKLEARN POYNOMIAL\n",
    "from sklearn.preprocessing import PolynomialFeatures\n",
    "X_trainpoly, X_testpoly, y_trainpoly, y_testpoly = train_test_split(pd.DataFrame(maindf3poly['X']), maindf3poly['Z'], test_size=0.25)\n",
    "\n",
    "poly = PolynomialFeatures(degree=2)\n",
    "X_trainpoly_ = poly.fit_transform(X_trainpoly)\n",
    "X_testpoly_ = poly.fit_transform(X_testpoly)\n",
    "\n",
    "lmodelfirst = linear_model.LinearRegression()\n",
    "print(lmodelfirst)\n",
    "lmodelfirst.fit(X_trainpoly_, y_trainpoly)\n",
    "ypredictedpoly = lmodelfirst.predict(X_testpoly_)\n",
    "compareoutputpoly = pd.DataFrame([ypredictedpoly, y_testpoly]).T\n",
    "compareoutputpoly.columns = ['Pred','Actual']\n",
    "print(lmodelfirst.coef_)\n",
    "print(lmodelfirst.intercept_)\n",
    "print('Mean Absolute Error : ', mt.mean_absolute_error(y_testpoly, ypredictedpoly))\n",
    "print('Mean Square Error : ', mt.mean_squared_error(y_testpoly, ypredictedpoly))\n",
    "print('Root Mean Square Error : ', math.sqrt(mt.mean_squared_error(y_testpoly, ypredictedpoly)))\n",
    "print('Median Absolute Error : ', mt.median_absolute_error(y_testpoly, ypredictedpoly))\n",
    "compareoutputpoly.head()"
   ]
  },
  {
   "cell_type": "code",
   "execution_count": 103,
   "metadata": {},
   "outputs": [
    {
     "data": {
      "text/plain": [
       "<matplotlib.legend.Legend at 0x15c93607388>"
      ]
     },
     "execution_count": 103,
     "metadata": {},
     "output_type": "execute_result"
    },
    {
     "data": {
      "image/png": "[encoded data removed]",
      "text/plain": [
       "<Figure size 432x288 with 1 Axes>"
      ]
     },
     "metadata": {
      "needs_background": "light"
     },
     "output_type": "display_data"
    }
   ],
   "source": [
    "plt.scatter(X_testpoly['X'], y_testpoly, color = 'green');\n",
    "plt.scatter(X_testpoly['X'], ypredictedpoly, color='#FFDD44')\n",
    "plt.legend(['Actual','Predicted'])"
   ]
  },
  {
   "cell_type": "markdown",
   "metadata": {},
   "source": [
    "# 3 Degree Polynomial Regression on above data"
   ]
  },
  {
   "cell_type": "code",
   "execution_count": 104,
   "metadata": {},
   "outputs": [
    {
     "name": "stdout",
     "output_type": "stream",
     "text": [
      "LinearRegression(copy_X=True, fit_intercept=True, n_jobs=None, normalize=False)\n",
      "[    0.         -3836.33196301   177.30208087    64.50837524]\n",
      "28752.379043248016\n",
      "Mean Absolute Error :  59283.5570401284\n",
      "Mean Square Error :  5484372633.530723\n",
      "Root Mean Square Error :  74056.55024054741\n",
      "Median Absolute Error :  51007.33217801375\n"
     ]
    },
    {
     "data": {
      "text/html": [
       "<div>\n",
       "<style scoped>\n",
       "    .dataframe tbody tr th:only-of-type {\n",
       "        vertical-align: middle;\n",
       "    }\n",
       "\n",
       "    .dataframe tbody tr th {\n",
       "        vertical-align: top;\n",
       "    }\n",
       "\n",
       "    .dataframe thead th {\n",
       "        text-align: right;\n",
       "    }\n",
       "</style>\n",
       "<table border=\"1\" class=\"dataframe\">\n",
       "  <thead>\n",
       "    <tr style=\"text-align: right;\">\n",
       "      <th></th>\n",
       "      <th>Pred</th>\n",
       "      <th>Actual</th>\n",
       "      <th>Residual-Error</th>\n",
       "    </tr>\n",
       "  </thead>\n",
       "  <tbody>\n",
       "    <tr>\n",
       "      <th>0</th>\n",
       "      <td>194941.046681</td>\n",
       "      <td>228573.4458</td>\n",
       "      <td>-33632.399119</td>\n",
       "    </tr>\n",
       "    <tr>\n",
       "      <th>1</th>\n",
       "      <td>631345.653432</td>\n",
       "      <td>683420.7981</td>\n",
       "      <td>-52075.144668</td>\n",
       "    </tr>\n",
       "    <tr>\n",
       "      <th>2</th>\n",
       "      <td>542645.077126</td>\n",
       "      <td>501917.3736</td>\n",
       "      <td>40727.703526</td>\n",
       "    </tr>\n",
       "    <tr>\n",
       "      <th>3</th>\n",
       "      <td>628927.835455</td>\n",
       "      <td>544379.8683</td>\n",
       "      <td>84547.967155</td>\n",
       "    </tr>\n",
       "    <tr>\n",
       "      <th>4</th>\n",
       "      <td>410283.634315</td>\n",
       "      <td>437834.2202</td>\n",
       "      <td>-27550.585885</td>\n",
       "    </tr>\n",
       "  </tbody>\n",
       "</table>\n",
       "</div>"
      ],
      "text/plain": [
       "            Pred       Actual  Residual-Error\n",
       "0  194941.046681  228573.4458   -33632.399119\n",
       "1  631345.653432  683420.7981   -52075.144668\n",
       "2  542645.077126  501917.3736    40727.703526\n",
       "3  628927.835455  544379.8683    84547.967155\n",
       "4  410283.634315  437834.2202   -27550.585885"
      ]
     },
     "execution_count": 104,
     "metadata": {},
     "output_type": "execute_result"
    }
   ],
   "source": [
    "#### SKLEARN POYNOMIAL 3 DEGREE\n",
    "#### SKLEARN POYNOMIAL 3 DEGREE\n",
    "#### SKLEARN POYNOMIAL 3 DEGREE\n",
    "#### SKLEARN POYNOMIAL 3 DEGREE\n",
    "#### SKLEARN POYNOMIAL 3 DEGREE\n",
    "\n",
    "from sklearn.preprocessing import PolynomialFeatures\n",
    "X_trainpoly, X_testpoly, y_trainpoly_, y_testpoly_ = train_test_split(pd.DataFrame(maindf3poly['X']), maindf3poly['Z'], test_size=0.25)\n",
    "\n",
    "poly = PolynomialFeatures(degree=3)\n",
    "X_trainpoly_ = poly.fit_transform(X_trainpoly)\n",
    "X_testpoly_ = poly.fit_transform(X_testpoly)\n",
    "\n",
    "lmodelfirst = linear_model.LinearRegression()\n",
    "print(lmodelfirst)\n",
    "lmodelfirst.fit(X_trainpoly_, y_trainpoly_)\n",
    "ypredictedpoly_ = lmodelfirst.predict(X_testpoly_)\n",
    "compareoutputpoly_ = pd.DataFrame([ypredictedpoly_, y_testpoly_, (ypredictedpoly_ - y_testpoly_)]).T\n",
    "compareoutputpoly_.columns = ['Pred','Actual', 'Residual-Error']\n",
    "print(lmodelfirst.coef_)\n",
    "print(lmodelfirst.intercept_)\n",
    "print('Mean Absolute Error : ', mt.mean_absolute_error(y_testpoly_, ypredictedpoly_))\n",
    "print('Mean Square Error : ', mt.mean_squared_error(y_testpoly_, ypredictedpoly_))\n",
    "print('Root Mean Square Error : ', math.sqrt(mt.mean_squared_error(y_testpoly_, ypredictedpoly_)))\n",
    "print('Median Absolute Error : ', mt.median_absolute_error(y_testpoly_, ypredictedpoly_))\n",
    "compareoutputpoly_.head()"
   ]
  },
  {
   "cell_type": "code",
   "execution_count": 105,
   "metadata": {},
   "outputs": [
    {
     "data": {
      "text/plain": [
       "<matplotlib.legend.Legend at 0x15c93ea9dc8>"
      ]
     },
     "execution_count": 105,
     "metadata": {},
     "output_type": "execute_result"
    },
    {
     "data": {
      "image/png": "[encoded data removed]",
      "text/plain": [
       "<Figure size 432x288 with 1 Axes>"
      ]
     },
     "metadata": {
      "needs_background": "light"
     },
     "output_type": "display_data"
    }
   ],
   "source": [
    "plt.scatter(X_testpoly['X'], y_testpoly_, color = 'green');\n",
    "plt.scatter(X_testpoly['X'], ypredictedpoly_, color='#FFDD44')\n",
    "plt.legend(['Actual','Predicted','OriginalwithoutNoise'])"
   ]
  },
  {
   "cell_type": "markdown",
   "metadata": {},
   "source": [
    "# SELF POYNOMIAL"
   ]
  },
  {
   "cell_type": "code",
   "execution_count": 106,
   "metadata": {},
   "outputs": [
    {
     "name": "stdout",
     "output_type": "stream",
     "text": [
      "[-81416.7539213    4125.88318529]\n",
      "516653.0161532215\n",
      "Mean Absolute Error :  59780.7330432672\n",
      "Mean Square Error :  5592266225.822784\n",
      "Root Mean Square Error :  74781.4564302059\n",
      "Median Absolute Error :  50384.492877537996\n"
     ]
    },
    {
     "data": {
      "text/html": [
       "<div>\n",
       "<style scoped>\n",
       "    .dataframe tbody tr th:only-of-type {\n",
       "        vertical-align: middle;\n",
       "    }\n",
       "\n",
       "    .dataframe tbody tr th {\n",
       "        vertical-align: top;\n",
       "    }\n",
       "\n",
       "    .dataframe thead th {\n",
       "        text-align: right;\n",
       "    }\n",
       "</style>\n",
       "<table border=\"1\" class=\"dataframe\">\n",
       "  <thead>\n",
       "    <tr style=\"text-align: right;\">\n",
       "      <th></th>\n",
       "      <th>Pred</th>\n",
       "      <th>Actual</th>\n",
       "    </tr>\n",
       "  </thead>\n",
       "  <tbody>\n",
       "    <tr>\n",
       "      <th>0</th>\n",
       "      <td>302914.791339</td>\n",
       "      <td>305444.6689</td>\n",
       "    </tr>\n",
       "    <tr>\n",
       "      <th>1</th>\n",
       "      <td>265873.899216</td>\n",
       "      <td>279456.6595</td>\n",
       "    </tr>\n",
       "    <tr>\n",
       "      <th>2</th>\n",
       "      <td>344899.069831</td>\n",
       "      <td>362104.5376</td>\n",
       "    </tr>\n",
       "    <tr>\n",
       "      <th>3</th>\n",
       "      <td>248426.058471</td>\n",
       "      <td>261461.4893</td>\n",
       "    </tr>\n",
       "    <tr>\n",
       "      <th>4</th>\n",
       "      <td>436767.410575</td>\n",
       "      <td>352518.7692</td>\n",
       "    </tr>\n",
       "  </tbody>\n",
       "</table>\n",
       "</div>"
      ],
      "text/plain": [
       "            Pred       Actual\n",
       "0  302914.791339  305444.6689\n",
       "1  265873.899216  279456.6595\n",
       "2  344899.069831  362104.5376\n",
       "3  248426.058471  261461.4893\n",
       "4  436767.410575  352518.7692"
      ]
     },
     "execution_count": 106,
     "metadata": {},
     "output_type": "execute_result"
    }
   ],
   "source": [
    "#### SELF POYNOMIAL\n",
    "#### SELF POYNOMIAL\n",
    "#### SELF POYNOMIAL\n",
    "#### SELF POYNOMIAL\n",
    "x = maindf3poly['X']\n",
    "maindf3poly['X2'] = x * x\n",
    "X_trainpoly, X_testpoly, y_trainpoly, y_testpoly = train_test_split(maindf3poly[['X','X2']], maindf3poly['Z'], test_size=0.25)\n",
    "lmodelfirst = linear_model.LinearRegression()\n",
    "lmodelfirst\n",
    "lmodelfirst.fit(X_trainpoly, y_trainpoly)\n",
    "ypredictedpoly = lmodelfirst.predict(X_testpoly)\n",
    "compareoutputpoly = pd.DataFrame([ypredictedpoly, y_testpoly]).T\n",
    "compareoutputpoly.columns = ['Pred','Actual']\n",
    "print(lmodelfirst.coef_)\n",
    "print(lmodelfirst.intercept_)\n",
    "print('Mean Absolute Error : ', mt.mean_absolute_error(y_testpoly, ypredictedpoly))\n",
    "print('Mean Square Error : ', mt.mean_squared_error(y_testpoly, ypredictedpoly))\n",
    "print('Root Mean Square Error : ', math.sqrt(mt.mean_squared_error(y_testpoly, ypredictedpoly)))\n",
    "print('Median Absolute Error : ', mt.median_absolute_error(y_testpoly, ypredictedpoly))\n",
    "compareoutputpoly.head()"
   ]
  }
 ],
 "metadata": {
  "kernelspec": {
   "display_name": "Python 3",
   "language": "python",
   "name": "python3"
  },
  "language_info": {
   "codemirror_mode": {
    "name": "ipython",
    "version": 3
   },
   "file_extension": ".py",
   "mimetype": "text/x-python",
   "name": "python",
   "nbconvert_exporter": "python",
   "pygments_lexer": "ipython3",
   "version": "3.7.6"
  },
  "name": "LinearRegressionLecture2",
  "notebookId": 4202889653979971
 },
 "nbformat": 4,
 "nbformat_minor": 1
}
